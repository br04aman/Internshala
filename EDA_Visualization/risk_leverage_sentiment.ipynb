{
    "cells": [
        {
            "cell_type": "markdown",
            "metadata": {},
            "source": ["# Risk & Leverage vs Sentiment Analysis"]
        },
        {
            "cell_type": "code",
            "execution_count": null,
            "metadata": {},
            "outputs": [],
            "source": ["import pandas as pd\n","import matplotlib.pyplot as plt\n","import seaborn as sns\n","import numpy as np\n","\n","# Set style and color palette\n","plt.style.use('seaborn-darkgrid')\n","sns.set_palette('husl')\n","\n","# Read the merged data\n","df = pd.read_csv('merged_data.csv')\n","\n","# Display first few rows\n","df.head()"]
        },
        {
            "cell_type": "markdown",
            "metadata": {},
            "source": ["## Analyze Position Size by Market Sentiment"]
        },
        {
            "cell_type": "code",
            "execution_count": null,
            "metadata": {},
            "outputs": [],
            "source": ["# Create sentiment categories\n","df['Sentiment_Category'] = pd.cut(df['value'],\n","                                  bins=[0, 25, 50, 75, 100],\n","                                  labels=['Extreme Fear', 'Fear', 'Neutral', 'Greed'])\n","\n","# Calculate average position size by sentiment\n","avg_position_size = df.groupby('Sentiment_Category')['Size USD'].mean().reset_index()\n","\n","# Create enhanced bar plot\n","plt.figure(figsize=(12, 6))\n","\n","# Create bar plot with gradient colors\n","bars = plt.bar(avg_position_size['Sentiment_Category'], avg_position_size['Size USD'])\n","\n","# Create color gradient\n","colors = plt.cm.RdYlBu(np.linspace(0, 1, len(bars)))\n","for bar, color in zip(bars, colors):\n","    bar.set_color(color)\n","\n","# Customize plot\n","plt.title('Average Position Size by Market Sentiment', fontsize=14, pad=20)\n","plt.xlabel('Market Sentiment', fontsize=12)\n","plt.ylabel('Average Position Size (USD)', fontsize=12)\n","plt.xticks(rotation=45)\n","\n","# Add value labels on top of bars\n","for i, v in enumerate(avg_position_size['Size USD']):\n","    plt.text(i, v, f'${v:,.0f}', ha='center', va='bottom')\n","\n","# Add grid for better readability\n","plt.grid(True, alpha=0.3)\n","\n","plt.tight_layout()\n","plt.show()"]
        },
        {
            "cell_type": "markdown",
            "metadata": {},
            "source": ["## Calculate Daily Risk Metrics"]
        },
        {
            "cell_type": "code",
            "execution_count": null,
            "metadata": {},
            "outputs": [],
            "source": ["# Convert timestamp to datetime\n","df['Date'] = pd.to_datetime(df['Timestamp'])\n","\n","# Calculate daily risk metrics\n","daily_metrics = df.groupby('Date').agg({\n","    'Size USD': ['mean', 'std'],\n","    'PnL': ['mean', 'std'],\n","    'value': 'first'\n","}).reset_index()\n","\n","# Flatten column names\n","daily_metrics.columns = ['Date', 'Avg_Position_Size', 'Position_Size_Std',\n","                        'Avg_PnL', 'PnL_Std', 'Fear_Greed_Index']\n","\n","# Calculate risk-adjusted returns (Sharpe-like ratio)\n","daily_metrics['Risk_Adjusted_Returns'] = daily_metrics['Avg_PnL'] / daily_metrics['PnL_Std'].fillna(1)\n","\n","# Create enhanced scatter plot\n","plt.figure(figsize=(12, 6))\n","\n","# Create scatter plot with size based on position size\n","scatter = plt.scatter(daily_metrics['Fear_Greed_Index'],\n","                     daily_metrics['Risk_Adjusted_Returns'],\n","                     c=daily_metrics['Avg_Position_Size'],\n","                     s=100, cmap='viridis', alpha=0.6)\n","\n","# Add trend line\n","z = np.polyfit(daily_metrics['Fear_Greed_Index'],\n","              daily_metrics['Risk_Adjusted_Returns'], 1)\n","p = np.poly1d(z)\n","plt.plot(daily_metrics['Fear_Greed_Index'],\n","         p(daily_metrics['Fear_Greed_Index']),\n","         'r--', alpha=0.8)\n","\n","# Customize plot\n","plt.title('Risk-Adjusted Returns vs Fear & Greed Index', fontsize=14, pad=20)\n","plt.xlabel('Fear & Greed Index', fontsize=12)\n","plt.ylabel('Risk-Adjusted Returns', fontsize=12)\n","\n","# Add colorbar\n","cbar = plt.colorbar(scatter)\n","cbar.set_label('Average Position Size (USD)', fontsize=10)\n","\n","# Add grid for better readability\n","plt.grid(True, alpha=0.3)\n","\n","plt.tight_layout()\n","plt.show()"]
        },
        {
            "cell_type": "markdown",
            "metadata": {},
            "source": ["## Risk Metrics Distribution"]
        },
        {
            "cell_type": "code",
            "execution_count": null,
            "metadata": {},
            "outputs": [],
            "source": ["# Create sentiment categories for daily metrics\n","daily_metrics['Sentiment_Category'] = pd.cut(daily_metrics['Fear_Greed_Index'],\n","                                             bins=[0, 25, 50, 75, 100],\n","                                             labels=['Extreme Fear', 'Fear', 'Neutral', 'Greed'])\n","\n","# Create subplots for risk metrics distribution\n","fig, (ax1, ax2) = plt.subplots(1, 2, figsize=(15, 6))\n","\n","# Plot position size distribution\n","sns.violinplot(data=daily_metrics, x='Sentiment_Category', y='Avg_Position_Size',\n","               palette='RdYlBu', inner='box', ax=ax1)\n","ax1.set_title('Position Size Distribution by Sentiment', fontsize=12)\n","ax1.set_xlabel('Market Sentiment', fontsize=10)\n","ax1.set_ylabel('Average Position Size (USD)', fontsize=10)\n","ax1.tick_params(axis='x', rotation=45)\n","\n","# Plot risk-adjusted returns distribution\n","sns.violinplot(data=daily_metrics, x='Sentiment_Category', y='Risk_Adjusted_Returns',\n","               palette='RdYlBu', inner='box', ax=ax2)\n","ax2.set_title('Risk-Adjusted Returns Distribution by Sentiment', fontsize=12)\n","ax2.set_xlabel('Market Sentiment', fontsize=10)\n","ax2.set_ylabel('Risk-Adjusted Returns', fontsize=10)\n","ax2.tick_params(axis='x', rotation=45)\n","\n","plt.tight_layout()\n","plt.show()\n","\n","# Calculate and display correlation\n","correlation = daily_metrics['Fear_Greed_Index'].corr(daily_metrics['Risk_Adjusted_Returns'])\n","print(f'\nCorrelation between Risk-Adjusted Returns and Fear & Greed Index: {correlation:.2f}')\n","\n","# Calculate summary statistics\n","summary_stats = daily_metrics.groupby('Sentiment_Category').agg({\n","    'Avg_Position_Size': ['mean', 'std'],\n","    'Risk_Adjusted_Returns': ['mean', 'std']\n","}).round(2)\n","\n","print('\nSummary Statistics by Sentiment Category:')\n","print(summary_stats)"]
        }
    ],
    "metadata": {
        "kernelspec": {
            "display_name": "Python 3",
            "language": "python",
            "name": "python3"
        },
        "language_info": {
            "codemirror_mode": {
                "name": "ipython",
                "version": 3
            },
            "file_extension": ".py",
            "mimetype": "text/x-python",
            "name": "python",
            "nbconvert_exporter": "python",
            "pygments_lexer": "ipython3",
            "version": "3.8.0"
        }
    },
    "nbformat": 4,
    "nbformat_minor": 4
}