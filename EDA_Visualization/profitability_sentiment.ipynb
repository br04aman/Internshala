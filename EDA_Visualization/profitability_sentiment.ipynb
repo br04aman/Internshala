{
    "cells": [
        {
            "cell_type": "markdown",
            "metadata": {},
            "source": ["# Profitability vs Sentiment Analysis"]
        },
        {
            "cell_type": "code",
            "execution_count": null,
            "metadata": {},
            "outputs": [],
            "source": ["import pandas as pd\n","import matplotlib.pyplot as plt\n","import seaborn as sns\n","\n","# Set style and color palette\n","plt.style.use('seaborn-darkgrid')\n","sns.set_palette('husl')\n","\n","# Read the merged data\n","df = pd.read_csv('merged_data.csv')\n","\n","# Display first few rows\n","df.head()"]
        },
        {
            "cell_type": "markdown",
            "metadata": {},
            "source": ["## Calculate Daily Profitability"]
        },
        {
            "cell_type": "code",
            "execution_count": null,
            "metadata": {},
            "outputs": [],
            "source": ["# Convert timestamp to datetime\n","df['Date'] = pd.to_datetime(df['Timestamp'])\n","\n","# Calculate daily PnL\n","daily_pnl = df.groupby('Date')['PnL'].sum().reset_index()\n","\n","# Get daily sentiment values\n","daily_sentiment = df.groupby('Date')['value'].first().reset_index()\n","\n","# Merge daily PnL with sentiment\n","daily_analysis = pd.merge(daily_pnl, daily_sentiment, on='Date')\n","\n","# Display first few rows of the merged data\n","daily_analysis.head()"]
        },
        {
            "cell_type": "markdown",
            "metadata": {},
            "source": ["## Visualize Profitability vs Sentiment"]
        },
        {
            "cell_type": "code",
            "execution_count": null,
            "metadata": {},
            "outputs": [],
            "source": ["# Create enhanced scatter plot\n","plt.figure(figsize=(12, 6))\n","\n","# Create main scatter plot with alpha for better visibility\n","scatter = plt.scatter(daily_analysis['value'], daily_analysis['PnL'],\n","                     c=daily_analysis['PnL'], cmap='coolwarm',\n","                     alpha=0.6, s=100)\n","\n","# Add trend line with confidence interval\n","sns.regplot(data=daily_analysis, x='value', y='PnL',\n","           scatter=False, color='black', line_kws={'linestyle':'--'})\n","\n","# Customize plot\n","plt.title('Daily Profitability vs Fear & Greed Index', fontsize=14, pad=20)\n","plt.xlabel('Fear & Greed Index', fontsize=12)\n","plt.ylabel('Daily PnL', fontsize=12)\n","\n","# Add colorbar\n","plt.colorbar(scatter, label='PnL Value')\n","\n","# Add grid for better readability\n","plt.grid(True, alpha=0.3)\n","\n","plt.tight_layout()\n","plt.show()"]
        },
        {
            "cell_type": "markdown",
            "metadata": {},
            "source": ["## Calculate Correlation"]
        },
        {
            "cell_type": "code",
            "execution_count": null,
            "metadata": {},
            "outputs": [],
            "source": ["# Calculate correlation between PnL and Fear & Greed Index\n","correlation = daily_analysis['PnL'].corr(daily_analysis['value'])\n","\n","# Create a styled correlation heatmap\n","corr_matrix = daily_analysis[['PnL', 'value']].corr()\n","\n","plt.figure(figsize=(8, 6))\n","sns.heatmap(corr_matrix, annot=True, cmap='RdYlBu', center=0,\n","            square=True, fmt='.2f', cbar_kws={'label': 'Correlation Coefficient'})\n","plt.title('Correlation Heatmap: PnL vs Fear & Greed Index', pad=20)\n","plt.tight_layout()\n","plt.show()\n","\n","print(f'\nCorrelation between Daily PnL and Fear & Greed Index: {correlation:.2f}')"]
        },
        {
            "cell_type": "markdown",
            "metadata": {},
            "source": ["## Analyze Profitability by Sentiment Categories"]
        },
        {
            "cell_type": "code",
            "execution_count": null,
            "metadata": {},
            "outputs": [],
            "source": ["# Create sentiment categories\n","daily_analysis['Sentiment_Category'] = pd.cut(daily_analysis['value'],\n","                                             bins=[0, 25, 50, 75, 100],\n","                                             labels=['Extreme Fear', 'Fear', 'Neutral', 'Greed'])\n","\n","# Create enhanced box plot\n","plt.figure(figsize=(12, 6))\n","\n","# Create violin plot with box plot inside\n","sns.violinplot(data=daily_analysis, x='Sentiment_Category', y='PnL',\n","               palette='RdYlBu', inner='box')\n","\n","# Customize plot\n","plt.title('Daily PnL Distribution by Market Sentiment', fontsize=14, pad=20)\n","plt.xlabel('Market Sentiment', fontsize=12)\n","plt.ylabel('Daily PnL', fontsize=12)\n","plt.xticks(rotation=45)\n","\n","# Add grid for better readability\n","plt.grid(True, alpha=0.3)\n","\n","plt.tight_layout()\n","plt.show()\n","\n","# Calculate and display statistics\n","stats_by_sentiment = daily_analysis.groupby('Sentiment_Category').agg({\n","    'PnL': ['mean', 'std', 'count']\n","}).round(2)\n","\n","print('\nDetailed Statistics by Sentiment Category:')\n","print(stats_by_sentiment)"]
        }
    ],
    "metadata": {
        "kernelspec": {
            "display_name": "Python 3",
            "language": "python",
            "name": "python3"
        },
        "language_info": {
            "codemirror_mode": {
                "name": "ipython",
                "version": 3
            },
            "file_extension": ".py",
            "mimetype": "text/x-python",
            "name": "python",
            "nbconvert_exporter": "python",
            "pygments_lexer": "ipython3",
            "version": "3.8.0"
        }
    },
    "nbformat": 4,
    "nbformat_minor": 4
}