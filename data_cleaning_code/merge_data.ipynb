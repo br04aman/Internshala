{
 "cells": [
  {
   "cell_type": "code",
   "execution_count": 2,
   "metadata": {},
   "outputs": [
    {
     "name": "stdout",
     "output_type": "stream",
     "text": [
      "Loading fear and greed data...\n",
      "Fear and greed data shape: (2644, 4)\n",
      "Loading historical trading data...\n",
      "Historical data shape: (211224, 17)\n",
      "Merging datasets...\n",
      "Merged data shape: (211218, 20)\n",
      "Date range in merged data:\n",
      "Start date: 2023-05-01 00:00:00\n",
      "End date: 2025-05-01 00:00:00\n",
      "Merged data saved to merged_data.csv\n",
      "Sample of merged data:\n",
      "                                      Account  Coin  Execution Price  \\\n",
      "0  0xae5eacaf9c6b9111fd53034a602c192a04e082ed  @107           7.9769   \n",
      "1  0xae5eacaf9c6b9111fd53034a602c192a04e082ed  @107           7.9800   \n",
      "2  0xae5eacaf9c6b9111fd53034a602c192a04e082ed  @107           7.9855   \n",
      "3  0xae5eacaf9c6b9111fd53034a602c192a04e082ed  @107           7.9874   \n",
      "4  0xae5eacaf9c6b9111fd53034a602c192a04e082ed  @107           7.9894   \n",
      "\n",
      "   Size Tokens  Size USD Side     Timestamp IST  Start Position Direction  \\\n",
      "0       986.87   7872.16  BUY  02-12-2024 22:50        0.000000       Buy   \n",
      "1        16.00    127.68  BUY  02-12-2024 22:50      986.524596       Buy   \n",
      "2       144.09   1150.63  BUY  02-12-2024 22:50     1002.518996       Buy   \n",
      "3       142.98   1142.04  BUY  02-12-2024 22:50     1146.558564       Buy   \n",
      "4         8.73     69.75  BUY  02-12-2024 22:50     1289.488521       Buy   \n",
      "\n",
      "   Closed PnL                                   Transaction Hash     Order ID  \\\n",
      "0         0.0  0xec09451986a1874e3a980418412fcd0201f500c95bac...  52017706630   \n",
      "1         0.0  0xec09451986a1874e3a980418412fcd0201f500c95bac...  52017706630   \n",
      "2         0.0  0xec09451986a1874e3a980418412fcd0201f500c95bac...  52017706630   \n",
      "3         0.0  0xec09451986a1874e3a980418412fcd0201f500c95bac...  52017706630   \n",
      "4         0.0  0xec09451986a1874e3a980418412fcd0201f500c95bac...  52017706630   \n",
      "\n",
      "   Crossed       Fee      Trade ID     Timestamp       date   timestamp  \\\n",
      "0     True  0.345404  8.950000e+14  1.730000e+12 2024-12-02  1733117400   \n",
      "1     True  0.005600  4.430000e+14  1.730000e+12 2024-12-02  1733117400   \n",
      "2     True  0.050431  6.600000e+14  1.730000e+12 2024-12-02  1733117400   \n",
      "3     True  0.050043  1.080000e+15  1.730000e+12 2024-12-02  1733117400   \n",
      "4     True  0.003055  1.050000e+15  1.730000e+12 2024-12-02  1733117400   \n",
      "\n",
      "   value classification  \n",
      "0     80  Extreme Greed  \n",
      "1     80  Extreme Greed  \n",
      "2     80  Extreme Greed  \n",
      "3     80  Extreme Greed  \n",
      "4     80  Extreme Greed  \n"
     ]
    }
   ],
   "source": [
    "import pandas as pd\n",
    "\n",
    "# Load cleaned fear and greed data\n",
    "print('Loading fear and greed data...')\n",
    "fear_greed = pd.read_csv('cleaned_fear_greed.csv')\n",
    "fear_greed['date'] = pd.to_datetime(fear_greed['date'])\n",
    "print('Fear and greed data shape:', fear_greed.shape)\n",
    "\n",
    "# Load cleaned historical data\n",
    "print('Loading historical trading data...')\n",
    "historical = pd.read_csv('cleaned_historical.csv')\n",
    "historical['date'] = pd.to_datetime(historical['Timestamp IST'], format='%d-%m-%Y %H:%M').dt.date\n",
    "historical['date'] = pd.to_datetime(historical['date'])\n",
    "print('Historical data shape:', historical.shape)\n",
    "\n",
    "# Merge datasets on date\n",
    "print('Merging datasets...')\n",
    "merged = pd.merge(historical, fear_greed, on='date', how='inner')\n",
    "print('Merged data shape:', merged.shape)\n",
    "\n",
    "# Display date range\n",
    "print('Date range in merged data:')\n",
    "print('Start date:', merged['date'].min())\n",
    "print('End date:', merged['date'].max())\n",
    "\n",
    "# Save merged data\n",
    "merged.to_csv('merged_data.csv', index=False)\n",
    "print('Merged data saved to merged_data.csv')\n",
    "\n",
    "# Display sample of merged data\n",
    "print('Sample of merged data:')\n",
    "print(merged.head())\n"
   ]
  }
 ],
 "metadata": {
  "kernelspec": {
   "display_name": "Python 3",
   "language": "python",
   "name": "python3"
  },
  "language_info": {
   "codemirror_mode": {
    "name": "ipython",
    "version": 3
   },
   "file_extension": ".py",
   "mimetype": "text/x-python",
   "name": "python",
   "nbconvert_exporter": "python",
   "pygments_lexer": "ipython3",
   "version": "3.10.11"
  }
 },
 "nbformat": 4,
 "nbformat_minor": 4
}
