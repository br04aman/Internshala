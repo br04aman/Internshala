{
 "cells": [
  {
   "cell_type": "code",
   "execution_count": 3,
   "metadata": {},
   "outputs": [
    {
     "name": "stdout",
     "output_type": "stream",
     "text": [
      "Fear Greed Index cleaned and saved.\n",
      "Historical data cleaned and saved.\n"
     ]
    }
   ],
   "source": [
    "import pandas as pd\n",
    "import numpy as np\n",
    "\n",
    "# Load fear_greed_index.csv\n",
    "fg_path = 'fear_greed_index.csv'\n",
    "fg_df = pd.read_csv(fg_path)\n",
    "\n",
    "# Clean fear_greed_index\n",
    "fg_df['date'] = pd.to_datetime(fg_df['date'], format='%Y-%m-%d')\n",
    "fg_df['timestamp'] = pd.to_numeric(fg_df['timestamp'], errors='coerce')\n",
    "fg_df['value'] = pd.to_numeric(fg_df['value'], errors='coerce')\n",
    "fg_df = fg_df.dropna()\n",
    "fg_df.to_csv('cleaned_fear_greed.csv', index=False)\n",
    "print('Fear Greed Index cleaned and saved.')\n",
    "\n",
    "# Load historical_data_mod.csv\n",
    "hist_path = 'historical_data_mod.csv'\n",
    "hist_df = pd.read_csv(hist_path, on_bad_lines='skip')  # Skip bad lines due to potential formatting issues\n",
    "\n",
    "# Assuming columns based on snippet: address, token, val1, val2, val3, action, datetime, amount, action_type, val4, tx_hash, val5, is_false, val6, sci1, sci2\n",
    "# Clean historical_data\n",
    "if 'datetime' in hist_df.columns:\n",
    "    hist_df['datetime'] = pd.to_datetime(hist_df['datetime'], errors='coerce')\n",
    "hist_numeric_cols = ['val1', 'val2', 'val3', 'amount', 'val4', 'val5', 'val6', 'sci1', 'sci2']  # Adjust based on actual columns\n",
    "for col in hist_numeric_cols:\n",
    "    if col in hist_df.columns:\n",
    "        hist_df[col] = pd.to_numeric(hist_df[col], errors='coerce')\n",
    "hist_df = hist_df.dropna(thresh=hist_df.shape[1]-2)  # Drop rows with too many NaNs\n",
    "hist_df.to_csv('cleaned_historical.csv', index=False)\n",
    "print('Historical data cleaned and saved.')"
   ]
  }
 ],
 "metadata": {
  "kernelspec": {
   "display_name": "Python 3",
   "language": "python",
   "name": "python3"
  },
  "language_info": {
   "codemirror_mode": {
    "name": "ipython",
    "version": 3
   },
   "file_extension": ".py",
   "mimetype": "text/x-python",
   "name": "python",
   "nbconvert_exporter": "python",
   "pygments_lexer": "ipython3",
   "version": "3.10.11"
  }
 },
 "nbformat": 4,
 "nbformat_minor": 2
}
